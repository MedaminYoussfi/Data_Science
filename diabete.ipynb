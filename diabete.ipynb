{
  "nbformat": 4,
  "nbformat_minor": 0,
  "metadata": {
    "colab": {
      "provenance": [],
      "include_colab_link": true
    },
    "kernelspec": {
      "name": "python3",
      "display_name": "Python 3"
    },
    "language_info": {
      "name": "python"
    }
  },
  "cells": [
    {
      "cell_type": "markdown",
      "metadata": {
        "id": "view-in-github",
        "colab_type": "text"
      },
      "source": [
        "<a href=\"https://colab.research.google.com/github/MedaminYoussfi/Data_Science/blob/main/diabete.ipynb\" target=\"_parent\"><img src=\"https://colab.research.google.com/assets/colab-badge.svg\" alt=\"Open In Colab\"/></a>"
      ]
    },
    {
      "cell_type": "code",
      "execution_count": 1,
      "metadata": {
        "id": "YyZ2WKSPVuCT"
      },
      "outputs": [],
      "source": [
        "import pandas as pd\n",
        "import numpy as np\n",
        "from sklearn.datasets import load_diabetes\n",
        "from sklearn.svm import SVC\n",
        "import matplotlib.pyplot as plt\n",
        "from sklearn.model_selection import train_test_split"
      ]
    },
    {
      "cell_type": "code",
      "source": [
        "\n",
        "diab = load_diabetes()\n",
        "x = diab.data\n",
        "y = diab.target\n",
        "\n",
        "#split\n",
        "x_train, x_test, y_train, y_test = train_test_split(x, y, test_size=0.5)\n"
      ],
      "metadata": {
        "id": "gYTZqTwCWPd6"
      },
      "execution_count": 2,
      "outputs": []
    },
    {
      "cell_type": "code",
      "source": [
        "x_train"
      ],
      "metadata": {
        "colab": {
          "base_uri": "https://localhost:8080/"
        },
        "id": "lbFcsAFugWH-",
        "outputId": "edf6d386-0b6b-408e-b11e-cdf512978c2f"
      },
      "execution_count": 3,
      "outputs": [
        {
          "output_type": "execute_result",
          "data": {
            "text/plain": [
              "array([[-0.00188202, -0.04464164, -0.06440781, ...,  0.03430886,\n",
              "         0.01178548, -0.05492509],\n",
              "       [ 0.01628068, -0.04464164, -0.02884001, ..., -0.03949338,\n",
              "        -0.03074792, -0.04249877],\n",
              "       [ 0.03807591,  0.05068012, -0.01375064, ..., -0.00259226,\n",
              "        -0.02595311, -0.0010777 ],\n",
              "       ...,\n",
              "       [ 0.01264814,  0.05068012, -0.07195249, ..., -0.0763945 ,\n",
              "        -0.02029232, -0.03835666],\n",
              "       [-0.04547248, -0.04464164, -0.04824063, ..., -0.03949338,\n",
              "        -0.02479543,  0.01963284],\n",
              "       [-0.02730979, -0.04464164,  0.08001901, ...,  0.00331192,\n",
              "        -0.02952643,  0.03620126]])"
            ]
          },
          "metadata": {},
          "execution_count": 3
        }
      ]
    },
    {
      "cell_type": "code",
      "source": [
        "y_test"
      ],
      "metadata": {
        "colab": {
          "base_uri": "https://localhost:8080/"
        },
        "id": "4a5jOcmLgMgi",
        "outputId": "da9f221d-8575-4041-82c8-a99d196e842a"
      },
      "execution_count": 4,
      "outputs": [
        {
          "output_type": "execute_result",
          "data": {
            "text/plain": [
              "array([ 71., 127., 140., 183., 190., 170.,  90.,  71.,  99., 192., 244.,\n",
              "       128., 279., 336., 160., 222., 259.,  91.,  68.,  93., 138., 185.,\n",
              "       156., 200.,  71.,  61., 229., 178., 230., 199., 310., 190.,  94.,\n",
              "        66., 104.,  49., 115., 178., 109., 198., 341., 185., 171., 143.,\n",
              "       230.,  55.,  97., 191.,  96.,  58.,  48., 168., 142., 170., 225.,\n",
              "        42., 172., 139., 198., 217.,  48., 288., 258., 151., 259.,  69.,\n",
              "       127.,  85., 248.,  72., 219., 182., 172., 202., 182., 258., 310.,\n",
              "        74., 107., 124., 202.,  86.,  84., 132., 281., 102., 262.,  85.,\n",
              "        65.,  96., 161.,  65., 182., 150., 162., 233., 281., 142., 253.,\n",
              "        40., 242.,  71.,  88., 120., 164.,  81.,  55.,  47.,  54., 101.,\n",
              "       131.,  65.,  84., 101.,  51.,  71., 195., 232.,  68., 275.,  55.,\n",
              "        87.,  94.,  44., 170., 219.,  52., 154., 252., 317., 115., 141.,\n",
              "        97., 212.,  63., 128., 308.,  72., 135.,  66.,  63.,  59., 125.,\n",
              "       144.,  51., 166.,  49.,  42.,  84., 137.,  65.,  90.,  84.,  67.,\n",
              "       242.,  72., 273.,  52., 215., 109., 110., 220., 216.,  72., 310.,\n",
              "        70., 265., 259., 178., 275.,  64., 103.,  83., 302.,  60., 184.,\n",
              "        72., 168., 144., 292., 281., 108., 198., 175., 158., 174., 277.,\n",
              "        47., 140., 128., 283.,  31.,  89., 321.,  90., 104.,  70., 174.,\n",
              "       206., 113., 202., 110., 131., 187., 113., 107.,  39., 155.,  81.,\n",
              "       243.,  78., 200., 220., 257., 232., 181., 152.,  59., 109.,  89.,\n",
              "       111.])"
            ]
          },
          "metadata": {},
          "execution_count": 4
        }
      ]
    },
    {
      "cell_type": "code",
      "source": [
        "# Création du modèle SVM avec un noyau linéaire\n",
        "model = SVC(kernel='linear')\n",
        "\n",
        "# Entraînement\n",
        "model.fit(x_train, y_train)\n",
        "\n",
        "#Prédection\n",
        "pred=model.predict(x_test)\n",
        "y_pred = model.predict(x_test)"
      ],
      "metadata": {
        "id": "RyoulNgLXH4p"
      },
      "execution_count": 5,
      "outputs": []
    },
    {
      "cell_type": "code",
      "source": [
        "from sklearn.metrics import accuracy_score\n",
        "dt_score= accuracy_score(y_test,y_pred)\n",
        "dt_score"
      ],
      "metadata": {
        "colab": {
          "base_uri": "https://localhost:8080/"
        },
        "id": "zhPIu0m8hc80",
        "outputId": "8a82dcbf-c528-42fa-d79a-7ffa082bd9e7"
      },
      "execution_count": 10,
      "outputs": [
        {
          "output_type": "execute_result",
          "data": {
            "text/plain": [
              "0.0"
            ]
          },
          "metadata": {},
          "execution_count": 10
        }
      ]
    },
    {
      "cell_type": "code",
      "source": [
        "# Création du modèle SVM avec un noyau poly\n",
        "model = SVC(kernel='poly')\n",
        "\n",
        "# Entraînement du modèle\n",
        "model.fit(x_train, y_train)\n",
        "\n",
        "#Prédection\n",
        "y_pred = model.predict(x_test)\n",
        "\n",
        "#calcul le score\n",
        "dt_score= accuracy_score(y_test,y_pred)\n",
        "dt_score"
      ],
      "metadata": {
        "colab": {
          "base_uri": "https://localhost:8080/"
        },
        "id": "GhDu5vkIiDeE",
        "outputId": "bb5e26b4-7424-47d7-a895-782930c07f00"
      },
      "execution_count": 9,
      "outputs": [
        {
          "output_type": "execute_result",
          "data": {
            "text/plain": [
              "0.0"
            ]
          },
          "metadata": {},
          "execution_count": 9
        }
      ]
    }
  ]
}